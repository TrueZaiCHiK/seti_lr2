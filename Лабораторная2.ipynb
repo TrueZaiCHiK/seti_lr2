{
  "nbformat": 4,
  "nbformat_minor": 0,
  "metadata": {
    "colab": {
      "provenance": [],
      "include_colab_link": true
    },
    "kernelspec": {
      "name": "python3",
      "display_name": "Python 3"
    },
    "language_info": {
      "name": "python"
    }
  },
  "cells": [
    {
      "cell_type": "markdown",
      "metadata": {
        "id": "view-in-github",
        "colab_type": "text"
      },
      "source": [
        "<a href=\"https://colab.research.google.com/github/TrueZaiCHiK/seti_lr2/blob/main/%D0%9B%D0%B0%D0%B1%D0%BE%D1%80%D0%B0%D1%82%D0%BE%D1%80%D0%BD%D0%B0%D1%8F2.ipynb\" target=\"_parent\"><img src=\"https://colab.research.google.com/assets/colab-badge.svg\" alt=\"Open In Colab\"/></a>"
      ]
    },
    {
      "cell_type": "markdown",
      "source": [
        "Исходные данные"
      ],
      "metadata": {
        "id": "qpAy0k5GYTkw"
      }
    },
    {
      "cell_type": "code",
      "execution_count": null,
      "metadata": {
        "id": "1Qsdig1FCyHe"
      },
      "outputs": [],
      "source": [
        "word_length = 98"
      ]
    },
    {
      "cell_type": "markdown",
      "source": [
        "Установка и вычисление контрольной суммы"
      ],
      "metadata": {
        "id": "W1akXR-tYX6r"
      }
    },
    {
      "cell_type": "code",
      "source": [
        "!pip install crc64iso"
      ],
      "metadata": {
        "colab": {
          "base_uri": "https://localhost:8080/"
        },
        "id": "Xjjl4WMaER3G",
        "outputId": "6418caf3-e639-4b22-e9db-746af252eb26"
      },
      "execution_count": null,
      "outputs": [
        {
          "output_type": "stream",
          "name": "stdout",
          "text": [
            "Looking in indexes: https://pypi.org/simple, https://us-python.pkg.dev/colab-wheels/public/simple/\n",
            "Requirement already satisfied: crc64iso in /usr/local/lib/python3.9/dist-packages (0.0.2)\n"
          ]
        }
      ]
    },
    {
      "cell_type": "code",
      "source": [
        "from crc64iso.crc64iso import crc64\n",
        "from math import ceil, log2\n",
        "from random import randint"
      ],
      "metadata": {
        "id": "ueA5VvYbEASj"
      },
      "execution_count": null,
      "outputs": []
    },
    {
      "cell_type": "code",
      "source": [],
      "metadata": {
        "id": "A1lTpYC2YO_m"
      },
      "execution_count": null,
      "outputs": []
    },
    {
      "cell_type": "code",
      "source": [
        "def checksum(text):\n",
        "  return crc64(text)\n",
        "\n",
        "def text_to_bits(text, encoding='utf-8', errors=\"ignore\"):\n",
        "    bits = bin(int.from_bytes(text.encode(encoding, errors), 'big'))[2:]\n",
        "    return bits.zfill(8 * ((len(bits) + 7) // 8))\n",
        "  \n",
        "def bits_to_text(bits, encoding='utf-8', errors=\"ignore\"):\n",
        "    n = int(bits, 2)\n",
        "    return n.to_bytes((n.bit_length() + 7) // 8, 'big').decode(encoding, errors) or '\\0'\n",
        "\n",
        "def encode_word(data):\n",
        "  length = len(data)\n",
        "  red_count = calcRedundantBits(length)\n",
        "  data_with_zeros = posRedundantBits(data[::-1], red_count)\n",
        "  data_with_pars = calcParityBits(data_with_zeros[::-1], red_count)\n",
        "  return data_with_pars[::-1]\n",
        "\n",
        "def decode_word(word_data):\n",
        "  return remove_redundant_bits(word_data)\n",
        "\n",
        "def decode_word_error(word_data):\n",
        "  decoded_word_data = remove_redundant_bits(word_data)\n",
        "  r = calcRedundantBits(len(decoded_word_data))\n",
        "  idx_error = detectError(word_data[::-1], r) - 1\n",
        "  if idx_error == -1 or idx_error >= len(word_data):\n",
        "    return decoded_word_data, 0\n",
        "  word_data = word_data[:idx_error] + (\"0\" if word_data[idx_error] == \"1\" else \"1\") + word_data[idx_error+1:]\n",
        "  return remove_redundant_bits(word_data), 1\n",
        "\n",
        "def posRedundantBits(data, r):\n",
        "\tj = 0\n",
        "\tk = 1\n",
        "\tm = len(data)\n",
        "\tres = ''\n",
        "\tfor i in range(1, m + r+1):\n",
        "\t\tif(i == 2**j):\n",
        "\t\t\tres = res + '0'\n",
        "\t\t\tj += 1\n",
        "\t\telse:\n",
        "\t\t\tres = res + data[-1 * k]\n",
        "\t\t\tk += 1\n",
        "\treturn res\n",
        "\n",
        "def calcParityBits(arr, r):\n",
        "\tn = len(arr)\n",
        "\tfor i in range(r):\n",
        "\t\tval = 0\n",
        "\t\tfor j in range(1, n + 1):\n",
        "\t\t\tif(j & (2**i) == (2**i)):\n",
        "\t\t\t\tval = val ^ int(arr[-1 * j])\n",
        "\t\tarr = arr[:n-(2**i)] + str(val) + arr[n-(2**i)+1:]\n",
        "\treturn arr\n",
        "\n",
        "def calcRedundantBits(m):\n",
        "\tfor i in range(m):\n",
        "\t\tif(2**i >= m + i + 1):\n",
        "\t\t\treturn i\n",
        "\n",
        "def detectError(arr, nr):\n",
        "\tn = len(arr)\n",
        "\tres = 0\n",
        "\tfor i in range(nr):\n",
        "\t\tval = 0\n",
        "\t\tfor j in range(1, n + 1):\n",
        "\t\t\tif(j & (2**i) == (2**i)):\n",
        "\t\t\t\tval = val ^ int(arr[-1 * j])\n",
        "\t\tres = res + val*(10**i)\n",
        "\treturn int(str(res), 2)\n",
        "\n",
        "\n",
        "def remove_redundant_bits(data):\n",
        "  r_idx = 1\n",
        "  i_to_remove = []\n",
        "  while r_idx+1 < len(data):\n",
        "    i_to_remove.append(r_idx-1)\n",
        "    r_idx *= 2\n",
        "  i_to_remove = i_to_remove[::-1]\n",
        "  for i in i_to_remove:\n",
        "    data = data[:i] + data[i+1:]\n",
        "\n",
        "  return data"
      ],
      "metadata": {
        "id": "S9IfKr4JZJMk"
      },
      "execution_count": null,
      "outputs": []
    },
    {
      "cell_type": "code",
      "source": [],
      "metadata": {
        "id": "PT8Ocnh0D0m4"
      },
      "execution_count": null,
      "outputs": []
    },
    {
      "cell_type": "code",
      "source": [
        "def encode(text, word_length):\n",
        "  data = text_to_bits(text)\n",
        "  data_length = len(data)\n",
        "  num_blocks = ceil(data_length / word_length)\n",
        "  data_blocks = [\n",
        "      encode_word(data[i*word_length:(i+1)*word_length])\n",
        "      for i in range(num_blocks)\n",
        "  ]\n",
        "\n",
        "  return data_blocks, checksum(text)\n",
        "\n",
        "\n",
        "def decode(words_data):\n",
        "  decoded_data = \"\".join(\n",
        "      decode_word(word_data)\n",
        "      for word_data in words_data\n",
        "  )\n",
        "  decoded_text = bits_to_text(decoded_data)\n",
        "  return decoded_text, checksum(decoded_text)\n",
        "\n",
        "\n",
        "def decode_error(words_data):\n",
        "  decoded_data = \"\"\n",
        "  errors = 0\n",
        "  for word_data in words_data:\n",
        "    decoded_word, error = decode_word_error(word_data)\n",
        "    decoded_data += decoded_word\n",
        "    errors += error\n",
        "  decoded_text = bits_to_text(decoded_data)\n",
        "  return decoded_text, errors, checksum(decoded_text)"
      ],
      "metadata": {
        "id": "nmJrhXw9fjzM"
      },
      "execution_count": null,
      "outputs": []
    },
    {
      "cell_type": "code",
      "source": [
        "def place_error(words_data, word_num, bit_num):\n",
        "  word_data = words_data[word_num]\n",
        "  word_data = word_data[:bit_num] + (\"0\" if word_data[bit_num] == \"1\" else \"1\") + word_data[bit_num+1:]\n",
        "  words_data[word_num] = word_data\n",
        "  return words_data\n",
        "\n",
        "\n",
        "def place_random_errors(words_data, max_errors_per_word):\n",
        "  errors_info = []\n",
        "  broken_words = 0\n",
        "  for word_num in range(len(words_data)):\n",
        "    amount_of_errors  = randint(0, max_errors_per_word)\n",
        "    broken_words += 1 if amount_of_errors else 0\n",
        "    for err in range(amount_of_errors):\n",
        "      error_idx = randint(0, len(words_data[word_num])-1)\n",
        "      words_data = place_error(words_data, word_num, error_idx)\n",
        "      errors_info.append([word_num, error_idx])\n",
        "  return words_data, broken_words, errors_info"
      ],
      "metadata": {
        "id": "ggj0vJL_DyI3"
      },
      "execution_count": null,
      "outputs": []
    },
    {
      "cell_type": "code",
      "source": [
        "def main(text, word_length, max_broken_bits_per_word):\n",
        "  encoded_blocks, check_init = encode(text, word_length)\n",
        "\n",
        "  encoded_blocks, broken_words, errors_info = place_random_errors(encoded_blocks, max_broken_bits_per_word)\n",
        "  print(f\"Amount of broken words: {broken_words}\")\n",
        "  print(f\"Amount of broken bits: {len(errors_info)}\")\n",
        "\n",
        "  decoded_text, check_dec = decode(encoded_blocks)\n",
        "  print(f\"Decoded text: {decoded_text}\")\n",
        "  print(f\"Is the same? {decoded_text == text}\")\n",
        "\n",
        "  decoded_text_err, found_error_words, check_err = decode_error(encoded_blocks)\n",
        "  print(f\"Decoded text (fixing errors): {decoded_text_err}\")\n",
        "  print(f\"Is the same? {decoded_text_err == text}\")\n",
        "\n",
        "  print(f\"Found {found_error_words} broken words of {len(encoded_blocks)} total.\")\n",
        "  print(f\"Found all errors? {len(errors_info) == found_error_words}\")\n",
        "  print(f\"Decoding checksum: {check_init == check_dec}\\nDecoding with errors fixed checksum: {check_init == check_err}\")"
      ],
      "metadata": {
        "id": "VqLfOwowlHVK"
      },
      "execution_count": null,
      "outputs": []
    },
    {
      "cell_type": "code",
      "source": [
        "text = \"Lorem ipsum dolor sit amet, consectetur adipiscing elit, sed do eiusmod tempor incididunt ut labore et dolore magna aliqua. Ut enim ad minim veniam, quis nostrud exercitation ullamco laboris nisi ut aliquip ex ea commodo consequat. Duis aute irure dolor in reprehenderit in voluptate velit esse cillum dolore eu fugiat nulla pariatur. Excepteur sint occaecat cupidatat non proident, sunt in culpa qui officia deserunt mollit anim id est laborum. Lorem ipsum dolor sit amet, consectetur adipiscing elit, sed do eiusmod tempor incididunt ut labore et dolore magna aliqua. Ut enim ad minim veniam, quis nostrud exercitation ullamco laboris nisi ut aliquip ex ea commodo consequat. Duis aute irure dolor in reprehenderit in voluptate velit esse cillum dolore eu fugiat nulla pariatur. Excepteur sint occaecat cupidatat non proident, sunt in culpa qui officia deserunt mollit anim id est laborum. Lorem ipsum dolor sit amet, consectetur adipiscing elit, sed do eiusmod tempor incididunt ut labore et dolore magna aliqua. Ut enim ad minim veniam, quis nostrud exercitation ullamco laboris nisi ut aliquip ex ea commodo consequat. Duis aute irure dolor in reprehenderit in voluptate velit esse cillum dolore eu fugiat nulla pariatur. Excepteur sint occaecat cupidatat non proident, sunt in culpa qui officia deserunt mollit anim id est laborum. Lorem ipsum dolor sit amet, consectetur adipiscing elit, sed do eiusmod tempor incididunt ut labore et dolore magna aliqua. Ut enim ad minim veniam, quis nostrud exercitation ullamco laboris nisi ut aliquip ex ea commodo consequat. Duis aute irure dolor in reprehenderit in voluptate velit esse cillum dolore eu fugiat nulla pariatur. Excepteur sint occaecat cupidatat non proident, sunt in culpa qui officia deserunt mollit anim id est laborum.\"\n",
        "main(text, word_length, max_broken_bits_per_word=1)"
      ],
      "metadata": {
        "colab": {
          "base_uri": "https://localhost:8080/"
        },
        "id": "d73unMYGKMTc",
        "outputId": "4d190760-b729-4f73-922b-9d9bf1fb4daf"
      },
      "execution_count": null,
      "outputs": [
        {
          "output_type": "stream",
          "name": "stdout",
          "text": [
            "Amount of broken words: 68\n",
            "Amount of broken bits: 68\n",
            "Decoded text: Lorem ipsum tolor sit amet, consectetur adipiscing elit$ sed do eiusmod\"tempor incididunt ut labore et dolOre mawna aliqua. Ut enim ad\"minim veniam, quis nostrud exercitation ullamco laboris\"nisi ut aliuip ex ea commodo consequat. Duis aute irure dolor in(reprehenderit i. voluptate velit ess% cillum dolore eu fugiat nulla pariatur. Excepteur sint occaecat cuidatat non proident, sunt in cqlpa qui officia deserunT mollit anim id est laborum. Lorem pqum dolor sit amet, consectetur adipiscing elit, sed do eiusmod Tempor incididunt ut labore et dolorE magna aliqua. Ut enim0ad minim veniam, quis nostrud exercitation ullamco labgris nisi(ut aliquip ex ea0commodk consequat. Duis aute irure do|or in repehendgrit in voluptate velit esse cillum dolore eu fugiat nulla pariatur. Excepteur sint occaecat cupidatat$non proident,\"sunt kn culpa qui oficia deserunt mollit anim id est labor}m. Lorem ipsum dolor sit amet, consectetur adipiscing elit, sed do eiusmod tempor incididunt ut labore et dolore magna aliqua. Ut enim ad minim veniae, quis!nostrud exercitation ullamco laboris nisi ut aliQuip ex ma commodo consequat. Duis aute irure$dolor in repreheneerit in voluptate velit esse cillum dolore eu fugiat nlla paiatur. Excepteur sint occaecat cupidatat non proident, sunt in!culpa qui officia eeserunt mollit anim id est laborum. Lorem!ipsum doLor sit amet, consectetur adipiscing elit, sed do eiusmod tempgr incidadunt ut labope et dolore magna aliqua. Ut enim id minim veniam, quis nostrud axercitation 5llamco!laboris nisi ut aliqeip ex ea commoo consequat. Duis aqte irure dolor in Reprehenderit in voluptate velit usse cillum dolore eu fugiat nulla pariatur. Excepteur sint occaecatcupidatat ngn proident, sunt in culpa qui officIa desepunt mollit anim id est laborum.\n",
            "Is the same? False\n",
            "Decoded text (fixing errors): Lorem ipsum dolor sit amet, consectetur adipiscing elit, sed do eiusmod tempor incididunt ut labore et dolore magna aliqua. Ut enim ad minim veniam, quis nostrud exercitation ullamco laboris nisi ut aliquip ex ea commodo consequat. Duis aute irure dolor in reprehenderit in voluptate velit esse cillum dolore eu fugiat nulla pariatur. Excepteur sint occaecat cupidatat non proident, sunt in culpa qui officia deserunt mollit anim id est laborum. Lorem ipsum dolor sit amet, consectetur adipiscing elit, sed do eiusmod tempor incididunt ut labore et dolore magna aliqua. Ut enim ad minim veniam, quis nostrud exercitation ullamco laboris nisi ut aliquip ex ea commodo consequat. Duis aute irure dolor in reprehenderit in voluptate velit esse cillum dolore eu fugiat nulla pariatur. Excepteur sint occaecat cupidatat non proident, sunt in culpa qui officia deserunt mollit anim id est laborum. Lorem ipsum dolor sit amet, consectetur adipiscing elit, sed do eiusmod tempor incididunt ut labore et dolore magna aliqua. Ut enim ad minim veniam, quis nostrud exercitation ullamco laboris nisi ut aliquip ex ea commodo consequat. Duis aute irure dolor in reprehenderit in voluptate velit esse cillum dolore eu fugiat nulla pariatur. Excepteur sint occaecat cupidatat non proident, sunt in culpa qui officia deserunt mollit anim id est laborum. Lorem ipsum dolor sit amet, consectetur adipiscing elit, sed do eiusmod tempor incididunt ut labore et dolore magna aliqua. Ut enim ad minim veniam, quis nostrud exercitation ullamco laboris nisi ut aliquip ex ea commodo consequat. Duis aute irure dolor in reprehenderit in voluptate velit esse cillum dolore eu fugiat nulla pariatur. Excepteur sint occaecat cupidatat non proident, sunt in culpa qui officia deserunt mollit anim id est laborum.\n",
            "Is the same? True\n",
            "Found 68 broken words of 146 total.\n",
            "Found all errors? True\n",
            "Decoding checksum: False\n",
            "Decoding with errors fixed checksum: True\n"
          ]
        }
      ]
    },
    {
      "cell_type": "code",
      "source": [
        "text = \"\"\"Текст, по-видимому, является искажённым отрывком из философского трактата Марка Туллия Цицерона «О пределах добра и зла[en]», написанного в 45 году до н. э. на латинском языке. Обнаружение сходства приписывается Ричарду Макклинтоку[1]. Испорченный текст, вероятно, происходит от его издания в Loeb Classical Library 1914 года, в котором слово dolorem разбито переносом так, что страница 36 начинается с lorem ipsum… (do- осталось на предыдущей)[2].\n",
        "\n",
        "Lorem ipsum dolor sit amet, consectetur adipiscing elit, sed do eiusmod tempor incididunt ut labore et dolore magna aliqua. Ut enim ad minim veniam, quis nostrud exercitation ullamco laboris nisi ut aliquip ex ea commodo consequat. Duis aute irure dolor in reprehenderit in voluptate velit esse cillum dolore eu fugiat nulla pariatur. Excepteur sint occaecat cupidatat non proident, sunt in culpa qui officia deserunt mollit anim id est laborum.\n",
        "\n",
        "В оригинале абзац выглядит так:\n",
        "Sed ut perspiciatis, unde omnis iste natus error sit voluptatem accusantium doloremque laudantium, totam rem aperiam eaque ipsa, quae ab illo inventore veritatis et quasi architecto beatae vitae dicta sunt, explicabo. Nemo enim ipsam voluptatem, quia voluptas sit, aspernatur aut odit aut fugit, sed quia consequuntur magni dolores eos, qui ratione voluptatem sequi nesciunt, neque porro quisquam est, qui dolorem ipsum, quia dolor sit, amet, consectetur, adipisci velit, sed quia non numquam eius modi tempora incidunt, ut labore et dolore magnam aliquam quaerat voluptatem. Ut enim ad minima veniam, quis nostrum exercitationem ullam corporis suscipit laboriosam, nisi ut aliquid ex ea commodi consequatur? Quis autem vel eum iure reprehenderit, qui in ea voluptate velit esse, quam nihil molestiae consequatur, vel illum, qui dolorem eum fugiat, quo voluptas nulla pariatur? At vero eos et accusamus et iusto odio dignissimos ducimus, qui blanditiis praesentium voluptatum deleniti atque corrupti, quos dolores et quas molestias excepturi sint, obcaecati cupiditate non provident, similique sunt in culpa, qui officia deserunt mollitia animi, id est laborum et dolorum fuga. Et harum quidem rerum facilis est et expedita distinctio. Nam libero tempore, cum soluta nobis est eligendi optio, cumque nihil impedit, quo minus id, quod maxime placeat, facere possimus, omnis voluptas assumenda est, omnis dolor repellendus. Temporibus autem quibusdam et aut officiis debitis aut rerum necessitatibus saepe eveniet, ut et voluptates repudiandae sint et molestiae non recusandae. Itaque earum rerum hic tenetur a sapiente delectus, ut aut reiciendis voluptatibus maiores alias consequatur aut perferendis doloribus asperiores repellat.\"\"\"\n",
        "main(text, word_length, max_broken_bits_per_word=1)"
      ],
      "metadata": {
        "colab": {
          "base_uri": "https://localhost:8080/"
        },
        "id": "GnIOOzqMLEWw",
        "outputId": "35fb7e23-3931-4777-9608-c1e3cd368289"
      },
      "execution_count": null,
      "outputs": [
        {
          "output_type": "stream",
          "name": "stdout",
          "text": [
            "Amount of broken words: 137\n",
            "Amount of broken bits: 137\n",
            "Decoded text: Текст, по-видимому, является искажённым отрывком Из философского трактата Марка Туллия Цицермна «О прзделѰх добра и зла[en]», на?исанного в 45 году дп н. э/ на латиԽскоҼ языке. Обнаружение сходства!приPисывается Ричарду Макклинтоку[1]. Испорченный текст, верояно, происходиђ от его издания в Loeb Classical Libzary 1914 года,(в котPром слово\"dolorem разбиуо пеѐеносом так, чт стр0ниіа 36 начинается с dorem i`sum… (do- осталсь на предыдущей){2].\n",
            "\n",
            "Lorem ipsum dolor siT amet, consect%tur adipiscing elit, sed do eIusmod tempor inciDidunt ut laborE et dolore$magna aliqua. Ut enim ad minim veniam, quis nostrud exercitation ullamco abors nisi ut aliuip ex ea commodo con3equat. Duis`aute irure dolor in rexrehenderit In voluptate velit!esse cillum do|ore eu fugiat julla pariatur. Excepte5r sint occaecat cupIdatat nol proident, sunt in cumpa qui officia deserunt mollit afim id est0laborum.\n",
            "\n",
            "В оиги=але аСзац выглядит так:\n",
            "Sed ut\u0000perspiciatis, unde omnis$iste natuw error sit volutatem accusanti}m doloremque laudantium, totam rem ateriam eaque ipsa,`quae\"ab illo inventore verita|is et qua{i architecto beatae witae dicta sunt, explicabo. Neio enim ipsam voluptatem, quia volptas sit$ aspernatur aut odit aut fugit, sed quia consequuntUr magni dolores %os, qui ratio~e voluptatem sequi$nesciunt, neque popro quisquam est, qui dolorem mpsum, quia dolor sit, amet, consektetuv, adipisci velit, sed quia non numquam eius modh tempora incidunt, ut labora et dolore0magnam aliqam quaerat voluptatem. Utenim ad mi~ima veniam, quis nostrum exgrcitationem ullam corporis susckpit laboriosam, nisi(ut aliquid ex ee commodi #onsequater? Quis autem!vel eum iure rmprehmnderit, qui in ea voluptate velit esse, quam nihil lolestiae consequatur, vel illum, qui $olorem eu- fugiat, quo voluptas nulle pariatur? At vero eos et accusaMus et iesto odio dignissimo3 ducimus, qui blandiuiis praesentium vkluptatum deleniti atque corrupti, quos $olores et quas molestias excepturi sint, obcqecati cutiditate non prkvident, similique sunu in culpa, qui officia deserunt mollit)a animi, id est laborum et dolorum fuga. Et harum puidem rertm facilis esd et expeditq distinctio. Nam lijero tempore, cum soluta nobis est eligeldi opdio, cumque nihil impedit$ quo minus id, quod maxime placeat,facere possimus\f omnis volup|as assumenda(est, omnis\"dolor repellendus. Tmmp/ribus autem uibusdam et aut officihs debitis aut rerum necesshtatibus seepe eveniet, ut et voluptates repudiandaa sint et molestiae non recusandad. Itaque earum rerum hic tenetur a sapiente delectus, ut cut reicyendis voluptatibus maores alias cosequatur aut perferenis doloribus asperiores repella4.\n",
            "Is the same? False\n",
            "Decoded text (fixing errors): Текст, по-видимому, является искажённым отрывком из философского трактата Марка Туллия Цицерона «О пределах добра и зла[en]», написанного в 45 году до н. э. на латинском языке. Обнаружение сходства приписывается Ричарду Макклинтоку[1]. Испорченный текст, вероятно, происходит от его издания в Loeb Classical Library 1914 года, в котором слово dolorem разбито переносом так, что страница 36 начинается с lorem ipsum… (do- осталось на предыдущей)[2].\n",
            "\n",
            "Lorem ipsum dolor sit amet, consectetur adipiscing elit, sed do eiusmod tempor incididunt ut labore et dolore magna aliqua. Ut enim ad minim veniam, quis nostrud exercitation ullamco laboris nisi ut aliquip ex ea commodo consequat. Duis aute irure dolor in reprehenderit in voluptate velit esse cillum dolore eu fugiat nulla pariatur. Excepteur sint occaecat cupidatat non proident, sunt in culpa qui officia deserunt mollit anim id est laborum.\n",
            "\n",
            "В оригинале абзац выглядит так:\n",
            "Sed ut perspiciatis, unde omnis iste natus error sit voluptatem accusantium doloremque laudantium, totam rem aperiam eaque ipsa, quae ab illo inventore veritatis et quasi architecto beatae vitae dicta sunt, explicabo. Nemo enim ipsam voluptatem, quia voluptas sit, aspernatur aut odit aut fugit, sed quia consequuntur magni dolores eos, qui ratione voluptatem sequi nesciunt, neque porro quisquam est, qui dolorem ipsum, quia dolor sit, amet, consectetur, adipisci velit, sed quia non numquam eius modi tempora incidunt, ut labore et dolore magnam aliquam quaerat voluptatem. Ut enim ad minima veniam, quis nostrum exercitationem ullam corporis suscipit laboriosam, nisi ut aliquid ex ea commodi consequatur? Quis autem vel eum iure reprehenderit, qui in ea voluptate velit esse, quam nihil molestiae consequatur, vel illum, qui dolorem eum fugiat, quo voluptas nulla pariatur? At vero eos et accusamus et iusto odio dignissimos ducimus, qui blanditiis praesentium voluptatum deleniti atque corrupti, quos dolores et quas molestias excepturi sint, obcaecati cupiditate non provident, similique sunt in culpa, qui officia deserunt mollitia animi, id est laborum et dolorum fuga. Et harum quidem rerum facilis est et expedita distinctio. Nam libero tempore, cum soluta nobis est eligendi optio, cumque nihil impedit, quo minus id, quod maxime placeat, facere possimus, omnis voluptas assumenda est, omnis dolor repellendus. Temporibus autem quibusdam et aut officiis debitis aut rerum necessitatibus saepe eveniet, ut et voluptates repudiandae sint et molestiae non recusandae. Itaque earum rerum hic tenetur a sapiente delectus, ut aut reiciendis voluptatibus maiores alias consequatur aut perferendis doloribus asperiores repellat.\n",
            "Is the same? True\n",
            "Found 137 broken words of 253 total.\n",
            "Found all errors? True\n",
            "Decoding checksum: False\n",
            "Decoding with errors fixed checksum: True\n"
          ]
        }
      ]
    }
  ]
}