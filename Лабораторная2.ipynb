{
  "nbformat": 4,
  "nbformat_minor": 0,
  "metadata": {
    "colab": {
      "provenance": [],
      "include_colab_link": true
    },
    "kernelspec": {
      "name": "python3",
      "display_name": "Python 3"
    },
    "language_info": {
      "name": "python"
    }
  },
  "cells": [
    {
      "cell_type": "markdown",
      "metadata": {
        "id": "view-in-github",
        "colab_type": "text"
      },
      "source": [
        "<a href=\"https://colab.research.google.com/github/TrueZaiCHiK/seti_lr2/blob/main/%D0%9B%D0%B0%D0%B1%D0%BE%D1%80%D0%B0%D1%82%D0%BE%D1%80%D0%BD%D0%B0%D1%8F2.ipynb\" target=\"_parent\"><img src=\"https://colab.research.google.com/assets/colab-badge.svg\" alt=\"Open In Colab\"/></a>"
      ]
    },
    {
      "cell_type": "markdown",
      "source": [
        "Исходные данные"
      ],
      "metadata": {
        "id": "qpAy0k5GYTkw"
      }
    },
    {
      "cell_type": "code",
      "execution_count": null,
      "metadata": {
        "id": "1Qsdig1FCyHe"
      },
      "outputs": [],
      "source": [
        "word_length = 98"
      ]
    },
    {
      "cell_type": "markdown",
      "source": [
        "Установка и вычисление контрольной суммы"
      ],
      "metadata": {
        "id": "W1akXR-tYX6r"
      }
    },
    {
      "cell_type": "code",
      "source": [
        "!pip install crc64iso"
      ],
      "metadata": {
        "colab": {
          "base_uri": "https://localhost:8080/"
        },
        "id": "Xjjl4WMaER3G",
        "outputId": "6418caf3-e639-4b22-e9db-746af252eb26"
      },
      "execution_count": null,
      "outputs": [
        {
          "output_type": "stream",
          "name": "stdout",
          "text": [
            "Looking in indexes: https://pypi.org/simple, https://us-python.pkg.dev/colab-wheels/public/simple/\n",
            "Requirement already satisfied: crc64iso in /usr/local/lib/python3.9/dist-packages (0.0.2)\n"
          ]
        }
      ]
    },
    {
      "cell_type": "code",
      "source": [
        "from crc64iso.crc64iso import crc64\n",
        "from math import ceil, log2\n",
        "from random import randint"
      ],
      "metadata": {
        "id": "ueA5VvYbEASj"
      },
      "execution_count": null,
      "outputs": []
    },
    {
      "cell_type": "code",
      "source": [],
      "metadata": {
        "id": "A1lTpYC2YO_m"
      },
      "execution_count": null,
      "outputs": []
    },
    {
      "cell_type": "code",
      "source": [
        "def checksum(text):\n",
        "  return crc64(text)\n",
        "\n",
        "def text_to_bits(text, encoding='utf-8', errors=\"ignore\"):\n",
        "    bits = bin(int.from_bytes(text.encode(encoding, errors), 'big'))[2:]\n",
        "    return bits.zfill(8 * ((len(bits) + 7) // 8))\n",
        "  \n",
        "def bits_to_text(bits, encoding='utf-8', errors=\"ignore\"):\n",
        "    n = int(bits, 2)\n",
        "    return n.to_bytes((n.bit_length() + 7) // 8, 'big').decode(encoding, errors) or '\\0'\n",
        "\n",
        "def encode_word(data):\n",
        "  length = len(data)\n",
        "  red_count = calcRedundantBits(length)\n",
        "  data_with_zeros = posRedundantBits(data[::-1], red_count)\n",
        "  data_with_pars = calcParityBits(data_with_zeros[::-1], red_count)\n",
        "  return data_with_pars[::-1]\n",
        "\n",
        "def decode_word(word_data):\n",
        "  return remove_redundant_bits(word_data)\n",
        "\n",
        "def decode_word_error(word_data):\n",
        "  decoded_word_data = remove_redundant_bits(word_data)\n",
        "  r = calcRedundantBits(len(decoded_word_data))\n",
        "  idx_error = detectError(word_data[::-1], r) - 1\n",
        "  if idx_error == -1 or idx_error >= len(word_data):\n",
        "    return decoded_word_data, 0\n",
        "  word_data = word_data[:idx_error] + (\"0\" if word_data[idx_error] == \"1\" else \"1\") + word_data[idx_error+1:]\n",
        "  return remove_redundant_bits(word_data), 1\n",
        "\n",
        "def posRedundantBits(data, r):\n",
        "\tj = 0\n",
        "\tk = 1\n",
        "\tm = len(data)\n",
        "\tres = ''\n",
        "\tfor i in range(1, m + r+1):\n",
        "\t\tif(i == 2**j):\n",
        "\t\t\tres = res + '0'\n",
        "\t\t\tj += 1\n",
        "\t\telse:\n",
        "\t\t\tres = res + data[-1 * k]\n",
        "\t\t\tk += 1\n",
        "\treturn res\n",
        "\n",
        "def calcParityBits(arr, r):\n",
        "\tn = len(arr)\n",
        "\tfor i in range(r):\n",
        "\t\tval = 0\n",
        "\t\tfor j in range(1, n + 1):\n",
        "\t\t\tif(j & (2**i) == (2**i)):\n",
        "\t\t\t\tval = val ^ int(arr[-1 * j])\n",
        "\t\tarr = arr[:n-(2**i)] + str(val) + arr[n-(2**i)+1:]\n",
        "\treturn arr\n",
        "\n",
        "def calcRedundantBits(m):\n",
        "\tfor i in range(m):\n",
        "\t\tif(2**i >= m + i + 1):\n",
        "\t\t\treturn i\n",
        "\n",
        "def detectError(arr, nr):\n",
        "\tn = len(arr)\n",
        "\tres = 0\n",
        "\tfor i in range(nr):\n",
        "\t\tval = 0\n",
        "\t\tfor j in range(1, n + 1):\n",
        "\t\t\tif(j & (2**i) == (2**i)):\n",
        "\t\t\t\tval = val ^ int(arr[-1 * j])\n",
        "\t\tres = res + val*(10**i)\n",
        "\treturn int(str(res), 2)\n",
        "\n",
        "\n",
        "def remove_redundant_bits(data):\n",
        "  r_idx = 1\n",
        "  i_to_remove = []\n",
        "  while r_idx+1 < len(data):\n",
        "    i_to_remove.append(r_idx-1)\n",
        "    r_idx *= 2\n",
        "  i_to_remove = i_to_remove[::-1]\n",
        "  for i in i_to_remove:\n",
        "    data = data[:i] + data[i+1:]\n",
        "\n",
        "  return data"
      ],
      "metadata": {
        "id": "S9IfKr4JZJMk"
      },
      "execution_count": null,
      "outputs": []
    },
    {
      "cell_type": "code",
      "source": [],
      "metadata": {
        "id": "PT8Ocnh0D0m4"
      },
      "execution_count": null,
      "outputs": []
    },
    {
      "cell_type": "code",
      "source": [
        "def encode(text, word_length):\n",
        "  data = text_to_bits(text)\n",
        "  data_length = len(data)\n",
        "  num_blocks = ceil(data_length / word_length)\n",
        "  data_blocks = [\n",
        "      encode_word(data[i*word_length:(i+1)*word_length])\n",
        "      for i in range(num_blocks)\n",
        "  ]\n",
        "\n",
        "  return data_blocks, checksum(text)\n",
        "\n",
        "\n",
        "def decode(words_data):\n",
        "  decoded_data = \"\".join(\n",
        "      decode_word(word_data)\n",
        "      for word_data in words_data\n",
        "  )\n",
        "  decoded_text = bits_to_text(decoded_data)\n",
        "  return decoded_text, checksum(decoded_text)\n",
        "\n",
        "\n",
        "def decode_error(words_data):\n",
        "  decoded_data = \"\"\n",
        "  errors = 0\n",
        "  for word_data in words_data:\n",
        "    decoded_word, error = decode_word_error(word_data)\n",
        "    decoded_data += decoded_word\n",
        "    errors += error\n",
        "  decoded_text = bits_to_text(decoded_data)\n",
        "  return decoded_text, errors, checksum(decoded_text)"
      ],
      "metadata": {
        "id": "nmJrhXw9fjzM"
      },
      "execution_count": null,
      "outputs": []
    },
    {
      "cell_type": "code",
      "source": [
        "def place_error(words_data, word_num, bit_num):\n",
        "  word_data = words_data[word_num]\n",
        "  word_data = word_data[:bit_num] + (\"0\" if word_data[bit_num] == \"1\" else \"1\") + word_data[bit_num+1:]\n",
        "  words_data[word_num] = word_data\n",
        "  return words_data\n",
        "\n",
        "\n",
        "def place_random_errors(words_data, max_errors_per_word):\n",
        "  errors_info = []\n",
        "  broken_words = 0\n",
        "  for word_num in range(len(words_data)):\n",
        "    amount_of_errors  = randint(0, max_errors_per_word)\n",
        "    broken_words += 1 if amount_of_errors else 0\n",
        "    for err in range(amount_of_errors):\n",
        "      error_idx = randint(0, len(words_data[word_num])-1)\n",
        "      words_data = place_error(words_data, word_num, error_idx)\n",
        "      errors_info.append([word_num, error_idx])\n",
        "  return words_data, broken_words, errors_info"
      ],
      "metadata": {
        "id": "ggj0vJL_DyI3"
      },
      "execution_count": null,
      "outputs": []
    },
    {
      "cell_type": "code",
      "source": [
        "def main(text, word_length, max_broken_bits_per_word):\n",
        "  encoded_blocks, check_init = encode(text, word_length)\n",
        "\n",
        "  encoded_blocks, broken_words, errors_info = place_random_errors(encoded_blocks, max_broken_bits_per_word)\n",
        "  print(f\"Amount of broken words: {broken_words}\")\n",
        "  print(f\"Amount of broken bits: {len(errors_info)}\")\n",
        "\n",
        "  decoded_text, check_dec = decode(encoded_blocks)\n",
        "  print(f\"Decoded text: {decoded_text}\")\n",
        "  print(f\"Is the same? {decoded_text == text}\")\n",
        "\n",
        "  decoded_text_err, found_error_words, check_err = decode_error(encoded_blocks)\n",
        "  print(f\"Decoded text (fixing errors): {decoded_text_err}\")\n",
        "  print(f\"Is the same? {decoded_text_err == text}\")\n",
        "\n",
        "  print(f\"Found {found_error_words} broken words of {len(encoded_blocks)} total.\")\n",
        "  print(f\"Found all errors? {len(errors_info) == found_error_words}\")\n",
        "  print(f\"Decoding checksum: {check_init == check_dec}\\nDecoding with errors fixed checksum: {check_init == check_err}\")"
      ],
      "metadata": {
        "id": "VqLfOwowlHVK"
      },
      "execution_count": null,
      "outputs": []
    },
    {
      "cell_type": "markdown",
      "source": [
        "# Без ошибок"
      ],
      "metadata": {
        "id": "Surm5ArvaJ6N"
      }
    },
    {
      "cell_type": "code",
      "source": [
        "text = \"Регистрация изображения - это процесс преобразования различных наборов данных в одну систему координат. Данные могут быть несколькими фотографиями, данными с разных датчиков, временами, глубинами или точками обзора. Он используется в компьютерном зрении , медицинской визуализации , военном автоматическом распознавании целей , а также в составлении и анализе изображений и данных со спутников. Регистрация необходима для того, чтобы иметь возможность сравнивать или интегрировать данные, полученные в результате этих различных измерений.Image registration is the process of transforming different sets of data into one coordinate system. Data may be multiple photographs, data from different sensors, times, depths, or viewpoints.[1] It is used in computer vision, medical imaging,[2] military automatic target recognition, and compiling and analyzing images and data from satellites. Registration is necessary in order to be able to compare or integrate the data obtained from these different measurements.Image registration has applications in remote sensing (cartography updating), and computer vision. Due to the vast range of applications to which image registration can be applied, it is impossible to develop a general method that is optimized for all uses.Medical image registration (for data of the same patient taken at different points in time such as change detection or tumor monitoring) often additionally involves elastic (also known as nonrigid) registration to cope with deformation of the subject (due to breathing, anatomical changes, and so forth).[18][19][20] Nonrigid registration of medical images can also be used to register a patient's data to an anatomical atlas, such as the Talairach atlas for neuroimaging.In astrophotography image alignment and stacking are often used to increase the signal to noise ratio for faint objects. Without stacking it may be used to produce a timelapse of events such as a planet's rotation of a transit across the Sun. Using control points (automatically or manually entered), the computer performs transformations on one image to make major features align with a second or multiple images. This technique may also be used for images of different sizes, to allow images taken through different telescopes or lenses to be combined.In cryo-TEM instability causes specimen drift and many fast acquisitions with accurate image registration is required to preserve high resolution and obtain high signal to noise images. For low SNR data, the best image registration is achieved by cross-correlating all permutations of images in an image stack.[21]Image registration is an essential part of panoramic image creation. There are many different techniques that can be implemented in real time and run on embedded devices like cameras and camera-phones.\"\n",
        "main(text, word_length, max_broken_bits_per_word=0)"
      ],
      "metadata": {
        "colab": {
          "base_uri": "https://localhost:8080/"
        },
        "id": "d73unMYGKMTc",
        "outputId": "96721971-3e15-4676-c2fa-508fbb7acf67"
      },
      "execution_count": 33,
      "outputs": [
        {
          "output_type": "stream",
          "name": "stdout",
          "text": [
            "Amount of broken words: 0\n",
            "Amount of broken bits: 0\n",
            "Decoded text: Регистрация изображения - это процесс преобразования различных наборов данных в одну систему координат. Данные могут быть несколькими фотографиями, данными с разных датчиков, временами, глубинами или точками обзора. Он используется в компьютерном зрении , медицинской визуализации , военном автоматическом распознавании целей , а также в составлении и анализе изображений и данных со спутников. Регистрация необходима для того, чтобы иметь возможность сравнивать или интегрировать данные, полученные в результате этих различных измерений.Image registration is the process of transforming different sets of data into one coordinate system. Data may be multiple photographs, data from different sensors, times, depths, or viewpoints.[1] It is used in computer vision, medical imaging,[2] military automatic target recognition, and compiling and analyzing images and data from satellites. Registration is necessary in order to be able to compare or integrate the data obtained from these different measurements.Image registration has applications in remote sensing (cartography updating), and computer vision. Due to the vast range of applications to which image registration can be applied, it is impossible to develop a general method that is optimized for all uses.Medical image registration (for data of the same patient taken at different points in time such as change detection or tumor monitoring) often additionally involves elastic (also known as nonrigid) registration to cope with deformation of the subject (due to breathing, anatomical changes, and so forth).[18][19][20] Nonrigid registration of medical images can also be used to register a patient's data to an anatomical atlas, such as the Talairach atlas for neuroimaging.In astrophotography image alignment and stacking are often used to increase the signal to noise ratio for faint objects. Without stacking it may be used to produce a timelapse of events such as a planet's rotation of a transit across the Sun. Using control points (automatically or manually entered), the computer performs transformations on one image to make major features align with a second or multiple images. This technique may also be used for images of different sizes, to allow images taken through different telescopes or lenses to be combined.In cryo-TEM instability causes specimen drift and many fast acquisitions with accurate image registration is required to preserve high resolution and obtain high signal to noise images. For low SNR data, the best image registration is achieved by cross-correlating all permutations of images in an image stack.[21]Image registration is an essential part of panoramic image creation. There are many different techniques that can be implemented in real time and run on embedded devices like cameras and camera-phones.\n",
            "Is the same? True\n",
            "Decoded text (fixing errors): Регистрация изображения - это процесс преобразования различных наборов данных в одну систему координат. Данные могут быть несколькими фотографиями, данными с разных датчиков, временами, глубинами или точками обзора. Он используется в компьютерном зрении , медицинской визуализации , военном автоматическом распознавании целей , а также в составлении и анализе изображений и данных со спутников. Регистрация необходима для того, чтобы иметь возможность сравнивать или интегрировать данные, полученные в результате этих различных измерений.Image registration is the process of transforming different sets of data into one coordinate system. Data may be multiple photographs, data from different sensors, times, depths, or viewpoints.[1] It is used in computer vision, medical imaging,[2] military automatic target recognition, and compiling and analyzing images and data from satellites. Registration is necessary in order to be able to compare or integrate the data obtained from these different measurements.Image registration has applications in remote sensing (cartography updating), and computer vision. Due to the vast range of applications to which image registration can be applied, it is impossible to develop a general method that is optimized for all uses.Medical image registration (for data of the same patient taken at different points in time such as change detection or tumor monitoring) often additionally involves elastic (also known as nonrigid) registration to cope with deformation of the subject (due to breathing, anatomical changes, and so forth).[18][19][20] Nonrigid registration of medical images can also be used to register a patient's data to an anatomical atlas, such as the Talairach atlas for neuroimaging.In astrophotography image alignment and stacking are often used to increase the signal to noise ratio for faint objects. Without stacking it may be used to produce a timelapse of events such as a planet's rotation of a transit across the Sun. Using control points (automatically or manually entered), the computer performs transformations on one image to make major features align with a second or multiple images. This technique may also be used for images of different sizes, to allow images taken through different telescopes or lenses to be combined.In cryo-TEM instability causes specimen drift and many fast acquisitions with accurate image registration is required to preserve high resolution and obtain high signal to noise images. For low SNR data, the best image registration is achieved by cross-correlating all permutations of images in an image stack.[21]Image registration is an essential part of panoramic image creation. There are many different techniques that can be implemented in real time and run on embedded devices like cameras and camera-phones.\n",
            "Is the same? True\n",
            "Found 0 broken words of 267 total.\n",
            "Found all errors? True\n",
            "Decoding checksum: True\n",
            "Decoding with errors fixed checksum: True\n"
          ]
        }
      ]
    },
    {
      "cell_type": "markdown",
      "source": [
        "# Не более 1 ошибки на слово"
      ],
      "metadata": {
        "id": "g2c0fYjhaPQr"
      }
    },
    {
      "cell_type": "code",
      "source": [
        "main(text, word_length, max_broken_bits_per_word=1)"
      ],
      "metadata": {
        "colab": {
          "base_uri": "https://localhost:8080/"
        },
        "id": "GnIOOzqMLEWw",
        "outputId": "86da027d-dc9f-475d-ba6e-9672b4b15584"
      },
      "execution_count": 36,
      "outputs": [
        {
          "output_type": "stream",
          "name": "stdout",
          "text": [
            "Amount of broken words: 136\n",
            "Amount of broken bits: 136\n",
            "Decoded text: Ргистрацию изображееия - эQо процесс пфеобразования различԽых наборов даннՋх в одпу систему координбт. ДАнные моҳут быть несколькиѴи фотографиямШ, данными с ра7ных датиков, жременами, глѓбинPми или точкаи обзофа. Он испольуется в коМпьютернм$зрении , меДициской визуализаՆии , ТоеннОм автомаъичеком распознавѰнии целей , а\"также в составлении и анализе Ҹзображений и данных со спутиков Регистрация необходиЬа для тпго, чтобы иметь возможность сраҲнивать или интегрироать данные, Pолученные в результате этиэ различных из<ерений.Image registration is th% process of transforming different sets of data into one comrdinate system. Data may be multiple photogpaphs, data fro} different sensors, times, depths, or viewpoints.[1] It is used In computer viion, medical imaging,[2] militaby autmatic target recognition, and compiling and analyzing imager and data brom satellites. Regisvration is necessary in order to be able to compare or integrate the data obtaijed from these different measurements.Image registration hs applicatios in remnte sensing (cartography updating), and computer vision. Dee to he vast range of pplications to which imege registravion san be applied- it is impossible to develop a general method 4hat is opti}ized for all uses.Medical image registration (nor data of the same patient taken at different points(in time such as change dtection or tumor monatoring) often atditionally involves elastic (also known as Nonrigid) re'istration to cope`with ddformation of the qubject (due to breathing,0anatomicaL changes, and so frth9.[18][19][20] Nonrigid registratIon of medical imagew can also be used to rEgister a patiant's data to an anatomical atlas, such as tie Talairach atlas for neuroimaging\u000eIn astrophotography ioage alignment ind stacking are often used to in#rease the signal0to noise ratio vor faint objects. Without`stacking it may be used to produe a timelapse of events suc as a planet's rotation of a tzansit across the Sun. Using control points (automadically or manually entered), the computer perfor}s transformations on one image to make major features align with a second or multiple images. This technique may also be usdd for images of diffe2ent sizes, to ellow images taken through difFebent telescopes or lensds to be combined.In cryo-TEM inqtability cau3es spesimen drift and many fast acquisitionq with accurate imagm registratio. is required topreserve hig resolution and obtain high signal to nokse images. For low SNR data, thm best image registvation is acjieved by cross-correlating all permutaTions of mages in `n image stack.K21]Image registration is(an essential part of panoramic image creation. There are many different vechniques that can be i-plementEd in real time andrun on embedded devices Like camerqs and camera-phones.\n",
            "Is the same? False\n",
            "Decoded text (fixing errors): Регистрация изображения - это процесс преобразования различных наборов данных в одну систему координат. Данные могут быть несколькими фотографиями, данными с разных датчиков, временами, глубинами или точками обзора. Он используется в компьютерном зрении , медицинской визуализации , военном автоматическом распознавании целей , а также в составлении и анализе изображений и данных со спутников. Регистрация необходима для того, чтобы иметь возможность сравнивать или интегрировать данные, полученные в результате этих различных измерений.Image registration is the process of transforming different sets of data into one coordinate system. Data may be multiple photographs, data from different sensors, times, depths, or viewpoints.[1] It is used in computer vision, medical imaging,[2] military automatic target recognition, and compiling and analyzing images and data from satellites. Registration is necessary in order to be able to compare or integrate the data obtained from these different measurements.Image registration has applications in remote sensing (cartography updating), and computer vision. Due to the vast range of applications to which image registration can be applied, it is impossible to develop a general method that is optimized for all uses.Medical image registration (for data of the same patient taken at different points in time such as change detection or tumor monitoring) often additionally involves elastic (also known as nonrigid) registration to cope with deformation of the subject (due to breathing, anatomical changes, and so forth).[18][19][20] Nonrigid registration of medical images can also be used to register a patient's data to an anatomical atlas, such as the Talairach atlas for neuroimaging.In astrophotography image alignment and stacking are often used to increase the signal to noise ratio for faint objects. Without stacking it may be used to produce a timelapse of events such as a planet's rotation of a transit across the Sun. Using control points (automatically or manually entered), the computer performs transformations on one image to make major features align with a second or multiple images. This technique may also be used for images of different sizes, to allow images taken through different telescopes or lenses to be combined.In cryo-TEM instability causes specimen drift and many fast acquisitions with accurate image registration is required to preserve high resolution and obtain high signal to noise images. For low SNR data, the best image registration is achieved by cross-correlating all permutations of images in an image stack.[21]Image registration is an essential part of panoramic image creation. There are many different techniques that can be implemented in real time and run on embedded devices like cameras and camera-phones.\n",
            "Is the same? True\n",
            "Found 136 broken words of 267 total.\n",
            "Found all errors? True\n",
            "Decoding checksum: False\n",
            "Decoding with errors fixed checksum: True\n"
          ]
        }
      ]
    },
    {
      "cell_type": "markdown",
      "source": [
        "#Не более двух ошибок на слово"
      ],
      "metadata": {
        "id": "IaPcefsaaWbv"
      }
    },
    {
      "cell_type": "code",
      "source": [
        "main(text, word_length, max_broken_bits_per_word=2)"
      ],
      "metadata": {
        "colab": {
          "base_uri": "https://localhost:8080/"
        },
        "id": "j7HtCrA9ZIEz",
        "outputId": "27f75670-4cd9-47b9-ca09-4ec62159ff69"
      },
      "execution_count": 35,
      "outputs": [
        {
          "output_type": "stream",
          "name": "stdout",
          "text": [
            "Amount of broken words: 178\n",
            "Amount of broken bits: 263\n",
            "Decoded text: Реги\u0001трация изображPия - это прпцесс преобраԷования различных наборв данных в ону сиЁтему кординат. Даные мܾгут быть несколькими$фотоУрафиями( данԽыми щ разных датчؘков,\u0000врменаШ,\"глуұинми ил тPчкми жбзорР. Он кспользՃетсՏ в ккмпьютерном Зрееии , медицинскй визуакиацШظ , вонном автЮматическоѼ распознавании цеей , а такж5 в сос\u0002авлении и анлизе избраженкй и данных со ѡптников. Релитрация нзобходииа для уого, чтобћ имеуь ѲозмжнЮсть сравнивать илҸ и=тегтиров԰ть даؽные, полученные в ре7улѬтае этих\u0000рАзличPых измЕрзниع.Imagd registration isthe proc!ss of transfobming different rets og data into one coordinate\"s}stem.`ata may be multm0le photographs, datA`from differen| sensobs, times, depths, or viewpointsn[1] It is(use$ in bomputer vision( medical imagi.g,[2]`military automapic target recognition, and compilino and ana,yzi.g imafes and taua from$satelnites. Registztion is n%cessry in order t be able to compare or integrate the dAta obtained from thesd dif~erenp measurements.Image registration has applications hn remote smnsing (bartogrephy upda|ing), and computer vision. Due to thu vast range of applications to which image registration kan be applied, it is im0ossile to develop agenebal meth/d Th!t is optimized for aln uses.Medical0image0registration (foz dapa of the Same pataeNt taken at different points in tima such as chcn'e detec4ion ortumor monitoring) often additionally in~olves %lastic((also known a3 nonrigie) pegictra|ion to cpe with deformation of t`e subject (due$to breething, anatomical changes, and so forth).[18][19][20] N/nrigid reoistration of medical imAges caf amso bE used to register a patieot'w data to a~ anatmmical`atlaS, such as the$Talairach atlas for nuroimqging.In astrophotography image ahignient and stacking are odten used to increase t(e signal to noise 2atio for\"faint obnects. Without stacking$it may be usef tO produce a timelapse of evends sush as a planet's rotati/n of a tbansit a#ross th Sun. Using!control poinTs (automatkcally or melually ente2ed), the computer\"perform{ vransformations on one image o\"make(major features align with a second or multiple images. T`is technique may also be used for images of ifferent sizgs, to allow im`ges taken\"through different telescopes or`lenses to be com\"hned.In crYo-TEM instabili4y0causes sp%ckmen drift end many fast Qcquisitions with abcurate image registration is required to prerezve high resmdutio and obtain0high signal to noise images. For low SNR data, the best image regmstradion is echieved by cross-corremating all permutations of images in an image stack.[21]Image registration is an essential part of panoramic imagg creation. There !re many different techniques txat can bE implemented in re!l time\"anl run on embedtEd devices liku cAmeras and camgra-phonms.\n",
            "Is the same? False\n",
            "Decoded text (fixing errors): Реги\tтрация изображPия - это процесс преобразования различных наборов данных в ону систему координат. Данًе мܾгут быть несколькими фотографиями( аанԽыми с разных дҰтчؘков,\u0000врм5наШ,\"глуҵинми ил тPчми обзора. Он кӁпользՃетѡՏ в компьютерном Зрѵеии , медицинской визуҰкиацظ , вонном автоматическом распознавании целей , а также в составлении и анализе избражений и данных со спутников. Регистрация необходима для того, чтобћ имеуь ѲозмжнЬсть сравнивать илҸ и=тPгриров԰ть даؽные, полученные в ре7улѬЂате этих\u0000рзличных измЕрзнйع.Imag` regi{tration isthe proc!ss of transfoBming different rets og\"data into one coordifate\"s}stdm.`ata may be multm0le photographs, datA`from different sensobs< times, depths, or viewpoints.[1] It is use$ in$bomputer vision, medical imagi*g,[2] military automatic target recognition, and compiling and ana,yzi.g$imafes ad taua from$3atellites. Regisdztion is n%cessry in order to be able to compare or integrate the data obtained from tiesd dif~erenpmeasurements.Image registration has applications in remote sensing (bartogrepy updating), and computer vision. Due to the vast range of applications to which image registration$kan be applied, it is im0ossile to develop a genebal meth/d Th!t is optimized for all uses.Medical0image0reistration (foz dipa of the Same xataent taken at different points in time such a chcn'e detection or tumor monitoring) often additionally involves %lastia((also known as nonrigie) pegctra|iOn to cope with deformation of the subject (due to breathing, anatomical changes, and so forth).[18][19][20] Nonrigid registration of medical imAger caf ams/ bE used to register a pqtieot'w data to an anatmmical`atlas, such as the Talairach atlas for nuroimqg)ng.In astrophotography image ahigniend and stacking are often used to increase 4(e signal to noise ratio for faint objects. Without stacking it may be usef tO produce a timelapse of evends surh as a planet's rotati?n of a tbansit0a#ross the Sun. Using control points (automatically or meluqlly entered), the computer perfmrm{ vransformations on one image to\"make(-ajor features align with a second or multiple images. This technique may also be used for images of different sizes, to allow im`ges taken\"through different telescopes or lenses to b% com\"hned.In cryo-TEM instabili4}0causes sp%c+men drift and many fast Qcquisitions with accurate image registration is required to prerezve hgh resmdutig and obtain high signal to noise images. For low SNR data, the best image regmstradyon is achieved by cross-correlating all permutations of images in an image stack.[21]Image registration is an essential part of panoramic image creation. There are many different techniques that can be implemented in re1l time\"anl ren on gmbedtEd devices liku cAm%ras and camera-phones.\n",
            "Is the same? False\n",
            "Found 166 broken words of 267 total.\n",
            "Found all errors? False\n",
            "Decoding checksum: False\n",
            "Decoding with errors fixed checksum: False\n"
          ]
        }
      ]
    },
    {
      "cell_type": "code",
      "source": [],
      "metadata": {
        "id": "j0AuafFLZK63"
      },
      "execution_count": null,
      "outputs": []
    }
  ]
}