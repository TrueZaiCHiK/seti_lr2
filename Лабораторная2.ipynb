{
  "nbformat": 4,
  "nbformat_minor": 0,
  "metadata": {
    "colab": {
      "provenance": [],
      "include_colab_link": true
    },
    "kernelspec": {
      "name": "python3",
      "display_name": "Python 3"
    },
    "language_info": {
      "name": "python"
    }
  },
  "cells": [
    {
      "cell_type": "markdown",
      "metadata": {
        "id": "view-in-github",
        "colab_type": "text"
      },
      "source": [
        "<a href=\"https://colab.research.google.com/github/TrueZaiCHiK/seti_lr2/blob/main/%D0%9B%D0%B0%D0%B1%D0%BE%D1%80%D0%B0%D1%82%D0%BE%D1%80%D0%BD%D0%B0%D1%8F2.ipynb\" target=\"_parent\"><img src=\"https://colab.research.google.com/assets/colab-badge.svg\" alt=\"Open In Colab\"/></a>"
      ]
    },
    {
      "cell_type": "markdown",
      "source": [
        "Исходные данные"
      ],
      "metadata": {
        "id": "qpAy0k5GYTkw"
      }
    },
    {
      "cell_type": "code",
      "execution_count": null,
      "metadata": {
        "id": "1Qsdig1FCyHe"
      },
      "outputs": [],
      "source": [
        "word_length = 98"
      ]
    },
    {
      "cell_type": "markdown",
      "source": [
        "Установка и вычисление контрольной суммы"
      ],
      "metadata": {
        "id": "W1akXR-tYX6r"
      }
    },
    {
      "cell_type": "code",
      "source": [
        "!pip install crc64iso"
      ],
      "metadata": {
        "colab": {
          "base_uri": "https://localhost:8080/"
        },
        "id": "Xjjl4WMaER3G",
        "outputId": "6418caf3-e639-4b22-e9db-746af252eb26"
      },
      "execution_count": null,
      "outputs": [
        {
          "output_type": "stream",
          "name": "stdout",
          "text": [
            "Looking in indexes: https://pypi.org/simple, https://us-python.pkg.dev/colab-wheels/public/simple/\n",
            "Requirement already satisfied: crc64iso in /usr/local/lib/python3.9/dist-packages (0.0.2)\n"
          ]
        }
      ]
    },
    {
      "cell_type": "code",
      "source": [
        "from crc64iso.crc64iso import crc64\n",
        "from math import ceil, log2\n",
        "from random import randint"
      ],
      "metadata": {
        "id": "ueA5VvYbEASj"
      },
      "execution_count": null,
      "outputs": []
    },
    {
      "cell_type": "code",
      "source": [],
      "metadata": {
        "id": "A1lTpYC2YO_m"
      },
      "execution_count": null,
      "outputs": []
    },
    {
      "cell_type": "code",
      "source": [
        "def checksum(text):\n",
        "  return crc64(text)\n",
        "\n",
        "def text_to_bits(text, encoding='utf-8', errors=\"ignore\"):\n",
        "    bits = bin(int.from_bytes(text.encode(encoding, errors), 'big'))[2:]\n",
        "    return bits.zfill(8 * ((len(bits) + 7) // 8))\n",
        "  \n",
        "def bits_to_text(bits, encoding='utf-8', errors=\"ignore\"):\n",
        "    n = int(bits, 2)\n",
        "    return n.to_bytes((n.bit_length() + 7) // 8, 'big').decode(encoding, errors) or '\\0'\n",
        "\n",
        "def encode_word(data):\n",
        "  length = len(data)\n",
        "  red_count = calcRedundantBits(length)\n",
        "  data_with_zeros = posRedundantBits(data[::-1], red_count)\n",
        "  data_with_pars = calcParityBits(data_with_zeros[::-1], red_count)\n",
        "  return data_with_pars[::-1]\n",
        "\n",
        "def decode_word(word_data):\n",
        "  return remove_redundant_bits(word_data)\n",
        "\n",
        "def decode_word_error(word_data):\n",
        "  decoded_word_data = remove_redundant_bits(word_data)\n",
        "  r = calcRedundantBits(len(decoded_word_data))\n",
        "  idx_error = detectError(word_data[::-1], r) - 1\n",
        "  if idx_error == -1 or idx_error >= len(word_data):\n",
        "    return decoded_word_data, 0\n",
        "  word_data = word_data[:idx_error] + (\"0\" if word_data[idx_error] == \"1\" else \"1\") + word_data[idx_error+1:]\n",
        "  return remove_redundant_bits(word_data), 1\n",
        "\n",
        "def posRedundantBits(data, r):\n",
        "\tj = 0\n",
        "\tk = 1\n",
        "\tm = len(data)\n",
        "\tres = ''\n",
        "\tfor i in range(1, m + r+1):\n",
        "\t\tif(i == 2**j):\n",
        "\t\t\tres = res + '0'\n",
        "\t\t\tj += 1\n",
        "\t\telse:\n",
        "\t\t\tres = res + data[-1 * k]\n",
        "\t\t\tk += 1\n",
        "\treturn res\n",
        "\n",
        "def calcParityBits(arr, r):\n",
        "\tn = len(arr)\n",
        "\tfor i in range(r):\n",
        "\t\tval = 0\n",
        "\t\tfor j in range(1, n + 1):\n",
        "\t\t\tif(j & (2**i) == (2**i)):\n",
        "\t\t\t\tval = val ^ int(arr[-1 * j])\n",
        "\t\tarr = arr[:n-(2**i)] + str(val) + arr[n-(2**i)+1:]\n",
        "\treturn arr\n",
        "\n",
        "def calcRedundantBits(m):\n",
        "\tfor i in range(m):\n",
        "\t\tif(2**i >= m + i + 1):\n",
        "\t\t\treturn i\n",
        "\n",
        "def detectError(arr, nr):\n",
        "\tn = len(arr)\n",
        "\tres = 0\n",
        "\tfor i in range(nr):\n",
        "\t\tval = 0\n",
        "\t\tfor j in range(1, n + 1):\n",
        "\t\t\tif(j & (2**i) == (2**i)):\n",
        "\t\t\t\tval = val ^ int(arr[-1 * j])\n",
        "\t\tres = res + val*(10**i)\n",
        "\treturn int(str(res), 2)\n",
        "\n",
        "\n",
        "def remove_redundant_bits(data):\n",
        "  r_idx = 1\n",
        "  i_to_remove = []\n",
        "  while r_idx+1 < len(data):\n",
        "    i_to_remove.append(r_idx-1)\n",
        "    r_idx *= 2\n",
        "  i_to_remove = i_to_remove[::-1]\n",
        "  for i in i_to_remove:\n",
        "    data = data[:i] + data[i+1:]\n",
        "\n",
        "  return data"
      ],
      "metadata": {
        "id": "S9IfKr4JZJMk"
      },
      "execution_count": null,
      "outputs": []
    },
    {
      "cell_type": "code",
      "source": [],
      "metadata": {
        "id": "PT8Ocnh0D0m4"
      },
      "execution_count": null,
      "outputs": []
    },
    {
      "cell_type": "code",
      "source": [
        "def encode(text, word_length):\n",
        "  data = text_to_bits(text)\n",
        "  data_length = len(data)\n",
        "  num_blocks = ceil(data_length / word_length)\n",
        "  data_blocks = [\n",
        "      encode_word(data[i*word_length:(i+1)*word_length])\n",
        "      for i in range(num_blocks)\n",
        "  ]\n",
        "\n",
        "  return data_blocks, checksum(text)\n",
        "\n",
        "\n",
        "def decode(words_data):\n",
        "  decoded_data = \"\".join(\n",
        "      decode_word(word_data)\n",
        "      for word_data in words_data\n",
        "  )\n",
        "  decoded_text = bits_to_text(decoded_data)\n",
        "  return decoded_text, checksum(decoded_text)\n",
        "\n",
        "\n",
        "def decode_error(words_data):\n",
        "  decoded_data = \"\"\n",
        "  errors = 0\n",
        "  for word_data in words_data:\n",
        "    decoded_word, error = decode_word_error(word_data)\n",
        "    decoded_data += decoded_word\n",
        "    errors += error\n",
        "  decoded_text = bits_to_text(decoded_data)\n",
        "  return decoded_text, errors, checksum(decoded_text)"
      ],
      "metadata": {
        "id": "nmJrhXw9fjzM"
      },
      "execution_count": null,
      "outputs": []
    },
    {
      "cell_type": "code",
      "source": [
        "def place_error(words_data, word_num, bit_num):\n",
        "  word_data = words_data[word_num]\n",
        "  word_data = word_data[:bit_num] + (\"0\" if word_data[bit_num] == \"1\" else \"1\") + word_data[bit_num+1:]\n",
        "  words_data[word_num] = word_data\n",
        "  return words_data\n",
        "\n",
        "\n",
        "def place_random_errors(words_data, max_errors_per_word):\n",
        "  errors_info = []\n",
        "  broken_words = 0\n",
        "  for word_num in range(len(words_data)):\n",
        "    amount_of_errors  = randint(0, max_errors_per_word)\n",
        "    broken_words += 1 if amount_of_errors else 0\n",
        "    for err in range(amount_of_errors):\n",
        "      error_idx = randint(0, len(words_data[word_num])-1)\n",
        "      words_data = place_error(words_data, word_num, error_idx)\n",
        "      errors_info.append([word_num, error_idx])\n",
        "  return words_data, broken_words, errors_info"
      ],
      "metadata": {
        "id": "ggj0vJL_DyI3"
      },
      "execution_count": null,
      "outputs": []
    },
    {
      "cell_type": "code",
      "source": [
        "def main(text, word_length, max_broken_bits_per_word):\n",
        "  encoded_blocks, check_init = encode(text, word_length)\n",
        "\n",
        "  encoded_blocks, broken_words, errors_info = place_random_errors(encoded_blocks, max_broken_bits_per_word)\n",
        "  print(f\"Amount of broken words: {broken_words}\")\n",
        "  print(f\"Amount of broken bits: {len(errors_info)}\")\n",
        "\n",
        "  decoded_text, check_dec = decode(encoded_blocks)\n",
        "  print(f\"Decoded text: {decoded_text}\")\n",
        "  print(f\"Is the same? {decoded_text == text}\")\n",
        "\n",
        "  decoded_text_err, found_error_words, check_err = decode_error(encoded_blocks)\n",
        "  print(f\"Decoded text (fixing errors): {decoded_text_err}\")\n",
        "  print(f\"Is the same? {decoded_text_err == text}\")\n",
        "\n",
        "  print(f\"Found {found_error_words} broken words of {len(encoded_blocks)} total.\")\n",
        "  print(f\"Found all errors? {len(errors_info) == found_error_words}\")\n",
        "  print(f\"Decoding checksum: {check_init == check_dec}\\nDecoding with errors fixed checksum: {check_init == check_err}\")"
      ],
      "metadata": {
        "id": "VqLfOwowlHVK"
      },
      "execution_count": null,
      "outputs": []
    },
    {
      "cell_type": "code",
      "source": [
        "text = \"Регистрация изображения - это процесс преобразования различных наборов данных в одну систему координат. Данные могут быть несколькими фотографиями, данными с разных датчиков, временами, глубинами или точками обзора. Он используется в компьютерном зрении , медицинской визуализации , военном автоматическом распознавании целей , а также в составлении и анализе изображений и данных со спутников. Регистрация необходима для того, чтобы иметь возможность сравнивать или интегрировать данные, полученные в результате этих различных измерений.Image registration is the process of transforming different sets of data into one coordinate system. Data may be multiple photographs, data from different sensors, times, depths, or viewpoints.[1] It is used in computer vision, medical imaging,[2] military automatic target recognition, and compiling and analyzing images and data from satellites. Registration is necessary in order to be able to compare or integrate the data obtained from these different measurements.Image registration has applications in remote sensing (cartography updating), and computer vision. Due to the vast range of applications to which image registration can be applied, it is impossible to develop a general method that is optimized for all uses.Medical image registration (for data of the same patient taken at different points in time such as change detection or tumor monitoring) often additionally involves elastic (also known as nonrigid) registration to cope with deformation of the subject (due to breathing, anatomical changes, and so forth).[18][19][20] Nonrigid registration of medical images can also be used to register a patient's data to an anatomical atlas, such as the Talairach atlas for neuroimaging.\"\n",
        "main(text, word_length, max_broken_bits_per_word=0)"
      ],
      "metadata": {
        "colab": {
          "base_uri": "https://localhost:8080/"
        },
        "id": "d73unMYGKMTc",
        "outputId": "89ceb3aa-fd83-4835-c538-20084f14cb02"
      },
      "execution_count": 29,
      "outputs": [
        {
          "output_type": "stream",
          "name": "stdout",
          "text": [
            "Amount of broken words: 0\n",
            "Amount of broken bits: 0\n",
            "Decoded text: Регистрация изображения - это процесс преобразования различных наборов данных в одну систему координат. Данные могут быть несколькими фотографиями, данными с разных датчиков, временами, глубинами или точками обзора. Он используется в компьютерном зрении , медицинской визуализации , военном автоматическом распознавании целей , а также в составлении и анализе изображений и данных со спутников. Регистрация необходима для того, чтобы иметь возможность сравнивать или интегрировать данные, полученные в результате этих различных измерений.Image registration is the process of transforming different sets of data into one coordinate system. Data may be multiple photographs, data from different sensors, times, depths, or viewpoints.[1] It is used in computer vision, medical imaging,[2] military automatic target recognition, and compiling and analyzing images and data from satellites. Registration is necessary in order to be able to compare or integrate the data obtained from these different measurements.Image registration has applications in remote sensing (cartography updating), and computer vision. Due to the vast range of applications to which image registration can be applied, it is impossible to develop a general method that is optimized for all uses.Medical image registration (for data of the same patient taken at different points in time such as change detection or tumor monitoring) often additionally involves elastic (also known as nonrigid) registration to cope with deformation of the subject (due to breathing, anatomical changes, and so forth).[18][19][20] Nonrigid registration of medical images can also be used to register a patient's data to an anatomical atlas, such as the Talairach atlas for neuroimaging.\n",
            "Is the same? True\n",
            "Decoded text (fixing errors): Регистрация изображения - это процесс преобразования различных наборов данных в одну систему координат. Данные могут быть несколькими фотографиями, данными с разных датчиков, временами, глубинами или точками обзора. Он используется в компьютерном зрении , медицинской визуализации , военном автоматическом распознавании целей , а также в составлении и анализе изображений и данных со спутников. Регистрация необходима для того, чтобы иметь возможность сравнивать или интегрировать данные, полученные в результате этих различных измерений.Image registration is the process of transforming different sets of data into one coordinate system. Data may be multiple photographs, data from different sensors, times, depths, or viewpoints.[1] It is used in computer vision, medical imaging,[2] military automatic target recognition, and compiling and analyzing images and data from satellites. Registration is necessary in order to be able to compare or integrate the data obtained from these different measurements.Image registration has applications in remote sensing (cartography updating), and computer vision. Due to the vast range of applications to which image registration can be applied, it is impossible to develop a general method that is optimized for all uses.Medical image registration (for data of the same patient taken at different points in time such as change detection or tumor monitoring) often additionally involves elastic (also known as nonrigid) registration to cope with deformation of the subject (due to breathing, anatomical changes, and so forth).[18][19][20] Nonrigid registration of medical images can also be used to register a patient's data to an anatomical atlas, such as the Talairach atlas for neuroimaging.\n",
            "Is the same? True\n",
            "Found 0 broken words of 180 total.\n",
            "Found all errors? True\n",
            "Decoding checksum: True\n",
            "Decoding with errors fixed checksum: True\n"
          ]
        }
      ]
    },
    {
      "cell_type": "code",
      "source": [
        "text = \"Регистрация изображения - это процесс преобразования различных наборов данных в одну систему координат. Данные могут быть несколькими фотографиями, данными с разных датчиков, временами, глубинами или точками обзора. Он используется в компьютерном зрении , медицинской визуализации , военном автоматическом распознавании целей , а также в составлении и анализе изображений и данных со спутников. Регистрация необходима для того, чтобы иметь возможность сравнивать или интегрировать данные, полученные в результате этих различных измерений.Image registration is the process of transforming different sets of data into one coordinate system. Data may be multiple photographs, data from different sensors, times, depths, or viewpoints.[1] It is used in computer vision, medical imaging,[2] military automatic target recognition, and compiling and analyzing images and data from satellites. Registration is necessary in order to be able to compare or integrate the data obtained from these different measurements.Image registration has applications in remote sensing (cartography updating), and computer vision. Due to the vast range of applications to which image registration can be applied, it is impossible to develop a general method that is optimized for all uses.Medical image registration (for data of the same patient taken at different points in time such as change detection or tumor monitoring) often additionally involves elastic (also known as nonrigid) registration to cope with deformation of the subject (due to breathing, anatomical changes, and so forth).[18][19][20] Nonrigid registration of medical images can also be used to register a patient's data to an anatomical atlas, such as the Talairach atlas for neuroimaging.\"\n",
        "main(text, word_length, max_broken_bits_per_word=1)"
      ],
      "metadata": {
        "colab": {
          "base_uri": "https://localhost:8080/"
        },
        "id": "GnIOOzqMLEWw",
        "outputId": "5c34bea1-fc0d-46e4-e30b-d22550cf9600"
      },
      "execution_count": 30,
      "outputs": [
        {
          "output_type": "stream",
          "name": "stdout",
          "text": [
            "Amount of broken words: 83\n",
            "Amount of broken bits: 83\n",
            "Decoded text: Регистраци изображения - это процесс преобразования азличных наPоров данных в!одну систему кооринат.$Данные могут быть есколькШми фотографиями, даннымP с разных дачиков, временами, гкубинами или точками обзора. О используеся в комПьютефном зрении , медцинской виطуализ԰ции , военном автоматичеком распознавании целей , а также ز составлении и\u0000анализе изображений и данных со спутйиков. Регистрация неоходима для того, чтобы иметь гозможность сравнивать или интегрировать дذнные, полученные в результате эти различных измеـений.Image registration is the prkcess ov transforming different sets of da|a anto one coordinate system. Data may be multkple photographs, data0from d)fferent sensozs, times, depths, o2 viewpoinus.[1] It is usE` in computer visi/n, medical imagijo,[2] military automatic targt recognition, and #ompiling and analyzing images and data fromsatellites. Registratign is necessary in order to e able to bompare or integrat% the data obtainmd from thesu different measurements.Image registrathon has applications in remote sensing cartography updeting), afd computer vision. DuE to the vast rangg of applications\u0000to which image registration can be applied,it is impossible to dvelop a general method that is optimized for all uses.Medcal image registraion (for data of the same patidnt taken at different points in time such as change detecion or tumor monitoring) often additionalLy involves elastic (also known aq nonrigid) registration to cope with deformation gf the su`ject (due to brgatling, anatomial changes, and so fopth).[18][19][20] Nofrigid regstratiOn of medical imagec can also be useD |o register a patient's data to an cnatomical atlas, such as the Talairach atlas fob neuroimaging.\n",
            "Is the same? False\n",
            "Decoded text (fixing errors): Регистрация изображения - это процесс преобразования различных наборов данных в одну систему координат. Данные могут быть несколькими фотографиями, данными с разных датчиков, временами, глубинами или точками обзора. Он используется в компьютерном зрении , медицинской визуализации , военном автоматическом распознавании целей , а также в составлении и анализе изображений и данных со спутников. Регистрация необходима для того, чтобы иметь возможность сравнивать или интегрировать данные, полученные в результате этих различных измерений.Image registration is the process of transforming different sets of data into one coordinate system. Data may be multiple photographs, data from different sensors, times, depths, or viewpoints.[1] It is used in computer vision, medical imaging,[2] military automatic target recognition, and compiling and analyzing images and data from satellites. Registration is necessary in order to be able to compare or integrate the data obtained from these different measurements.Image registration has applications in remote sensing (cartography updating), and computer vision. Due to the vast range of applications to which image registration can be applied, it is impossible to develop a general method that is optimized for all uses.Medical image registration (for data of the same patient taken at different points in time such as change detection or tumor monitoring) often additionally involves elastic (also known as nonrigid) registration to cope with deformation of the subject (due to breathing, anatomical changes, and so forth).[18][19][20] Nonrigid registration of medical images can also be used to register a patient's data to an anatomical atlas, such as the Talairach atlas for neuroimaging.\n",
            "Is the same? True\n",
            "Found 83 broken words of 180 total.\n",
            "Found all errors? True\n",
            "Decoding checksum: False\n",
            "Decoding with errors fixed checksum: True\n"
          ]
        }
      ]
    },
    {
      "cell_type": "code",
      "source": [
        "text = \"Регистрация изображения - это процесс преобразования различных наборов данных в одну систему координат. Данные могут быть несколькими фотографиями, данными с разных датчиков, временами, глубинами или точками обзора. Он используется в компьютерном зрении , медицинской визуализации , военном автоматическом распознавании целей , а также в составлении и анализе изображений и данных со спутников. Регистрация необходима для того, чтобы иметь возможность сравнивать или интегрировать данные, полученные в результате этих различных измерений.Image registration is the process of transforming different sets of data into one coordinate system. Data may be multiple photographs, data from different sensors, times, depths, or viewpoints.[1] It is used in computer vision, medical imaging,[2] military automatic target recognition, and compiling and analyzing images and data from satellites. Registration is necessary in order to be able to compare or integrate the data obtained from these different measurements.Image registration has applications in remote sensing (cartography updating), and computer vision. Due to the vast range of applications to which image registration can be applied, it is impossible to develop a general method that is optimized for all uses.Medical image registration (for data of the same patient taken at different points in time such as change detection or tumor monitoring) often additionally involves elastic (also known as nonrigid) registration to cope with deformation of the subject (due to breathing, anatomical changes, and so forth).[18][19][20] Nonrigid registration of medical images can also be used to register a patient's data to an anatomical atlas, such as the Talairach atlas for neuroimaging.\"\n",
        "main(text, word_length, max_broken_bits_per_word=2)"
      ],
      "metadata": {
        "colab": {
          "base_uri": "https://localhost:8080/"
        },
        "id": "j7HtCrA9ZIEz",
        "outputId": "4c2cdb3b-fda1-41f8-9565-210c05488703"
      },
      "execution_count": 31,
      "outputs": [
        {
          "output_type": "stream",
          "name": "stdout",
          "text": [
            "Amount of broken words: 121\n",
            "Amount of broken bits: 176\n",
            "Decoded text: Сегистрация зображения - этопѐоцзсс прдобЀазоزания разлиЇныс наборов дذнных в одну сисقему коордИнат. Данну могут быть несколькими фотоҳрафияPй, Данѽъми с разѽы датчиков, врбменами,глубШнами или точками обзора. Он испоГьзуется в конпӌ\u0002ерном зрнии , медицинхкой визуаѻизаии , военом0автоматИческом шспознавании цеЫей , а акже Т!составгннии и инал8зе изображصий и данных ѡо спутниов. РегиӁтация0ндобходима для того, тоѱы иPеть возМожнОсть сравнивать ии интԵГрровать даннще, полученые в рصзультат этих различных измешдний.Image registratio~ is the procesS of transformi~g diff%rent sets of data into one coordinate system. Data may be multiple xhotogra`hs, data from different sensors,times, depths, or0viewpohnts.[q] It is used in`cmputgr\"vision, medical i}aging,[2] mlitary automatic target recognition, and c/mpiling and anal9zing images and\u0000daa frm satellites. Rgistration iS ~ecessary in orler |o be able to`kompard$or integrate`the data obtained from these different measurements.Image registrataon has ipplicatigfs in remote sensing (cartography updavinG), and computer visoN. Due to the Vast range of aplicatimns to uhich image regystration can be aqplied, i is\"impossible to deveop ! geneal method that is optimized for all useS.Medical image registration (fob datq of the same patient taien at differmnt points if time such(as change detection or tumor monitosing) o&ten additi/nally$involves elastic (also known as(nonrigid) registration to coqe ith defozmatimn of the rubject (due tobreathiNg\f anato-ical changes, and so forth).[18_[19]20] NonrigiD registraTion of medicam imaggs can alsg be usud to egister a yatient's data to an anatooical atlas, such as the Tilairach atlas fop neuroimaganf.\n",
            "Is the same? False\n",
            "Decoded text (fixing errors): Регистраця зображения - этопѐоцесс прдобЀвзования различных наборов данных в одну систему координат. Данну могут быть несколькими фотоҳрафияPн, ДанѽѪми с разѽы$датчиков, временами,глуб(нами или точками обзора. Он испоГьзуется в к>нпӌ\u0002ѵрном зрении , медицинской визуаѻиԷаии , военоМ0автоматическоМ шспознавании целей , а таКже Т!составлении и инаЫ8зе изображصий и данных ѡ спутников. РегиӁЂация0ндоرходима для того, тԾѱ иPеть(возМожность сравнивать или интܵГрровать данные, полученные в ـصзультате этих различных измешдний.Image registration is the process of transformi~g diff5rent sets of data into one coordinate system. Data may be multiple xhotngra`hs, data from different sensors, times, depths, or0viewpohnts.[1] It is usedin`cmputgr&vision, medical imaging,[2] mlitary automatic target recognition, and compiling and analyzing images and daa fvm satellites. Registratkon iS ~ecessary in orlEr |o be able to`kompcrd$or integrate the data obtained from these different measurements.Image registration has applicatigfs\"in remote sensing (cartography updavinG), and computer vIsoN. Due to the vast range of applications to which image registration can be applied, i is\"iipossible to deveop ! general method that is optimized for all use[.Medical image registration (fob datq$of the same patient taken at different points in time such as change detection or tumor monitosing) o&ten additionally involves elastic (also known as nonrigid) registration to boqe ith defozmatimn\u0000of the subject (due to breathiNg\f anatomical changes, and so forth).[18][19][20] NonrigiD registrqTion of medicam imaogs can alsg be usud to register`a yatient's data to an anatomical atlas, such as the Talairach atlas for neuroimaging.\n",
            "Is the same? False\n",
            "Found 110 broken words of 180 total.\n",
            "Found all errors? False\n",
            "Decoding checksum: False\n",
            "Decoding with errors fixed checksum: False\n"
          ]
        }
      ]
    },
    {
      "cell_type": "code",
      "source": [],
      "metadata": {
        "id": "j0AuafFLZK63"
      },
      "execution_count": null,
      "outputs": []
    }
  ]
}